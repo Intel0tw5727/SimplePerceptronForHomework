{
 "cells": [
  {
   "cell_type": "markdown",
   "metadata": {},
   "source": [
    "# SimplePerceptron"
   ]
  },
  {
   "cell_type": "code",
   "execution_count": 1,
   "metadata": {
    "collapsed": true
   },
   "outputs": [],
   "source": [
    "# coding=utf8\n",
    "import numpy as np"
   ]
  },
  {
   "cell_type": "markdown",
   "metadata": {},
   "source": [
    "## Loading Data"
   ]
  },
  {
   "cell_type": "code",
   "execution_count": 2,
   "metadata": {
    "collapsed": true
   },
   "outputs": [],
   "source": [
    "# separatable point\n",
    "import pandas as pd\n",
    "p1 = pd.read_csv(\"point1.csv\")\n",
    "p2 = pd.read_csv(\"point2.csv\")"
   ]
  },
  {
   "cell_type": "markdown",
   "metadata": {},
   "source": [
    "## Preprocessing"
   ]
  },
  {
   "cell_type": "code",
   "execution_count": 3,
   "metadata": {
    "collapsed": true
   },
   "outputs": [],
   "source": [
    "# convert vector to extend vector\n",
    "P1,P2 = p1.copy(),p2.copy()\n",
    "P1['b'] = np.array([1] * len(P1.index))\n",
    "P2['b'] = np.array([1] * len(P2.index))\n",
    "P2 *= -1"
   ]
  },
  {
   "cell_type": "code",
   "execution_count": 4,
   "metadata": {
    "collapsed": true
   },
   "outputs": [],
   "source": [
    "point = np.r_[np.array(P1),np.array(P2)]"
   ]
  },
  {
   "cell_type": "code",
   "execution_count": 5,
   "metadata": {},
   "outputs": [
    {
     "data": {
      "text/plain": [
       "array([[ 0,  1,  1],\n",
       "       [ 1,  2,  1],\n",
       "       [-2, -1, -1],\n",
       "       [-2,  0, -1]])"
      ]
     },
     "execution_count": 5,
     "metadata": {},
     "output_type": "execute_result"
    }
   ],
   "source": [
    "point"
   ]
  },
  {
   "cell_type": "markdown",
   "metadata": {},
   "source": [
    "## Learning"
   ]
  },
  {
   "cell_type": "code",
   "execution_count": 14,
   "metadata": {
    "collapsed": true
   },
   "outputs": [],
   "source": [
    "class SimplePerceptron:\n",
    "    def __init__(self, W=np.round(np.random.rand(3)*10 / 2), step=1, epochs=10):\n",
    "        self.W = W\n",
    "        self.step = step\n",
    "        self.epochs = epochs\n",
    "        print(\"Initial Weight => {}\".format(self.W))\n",
    "        \n",
    "    def predict(self, point):\n",
    "        return np.where(np.dot(point,self.W.T)<=0)[0]\n",
    "        \n",
    "    def train(self, point):\n",
    "        for i in range(self.epochs):\n",
    "            if len(self.predict(point)) == 0:\n",
    "                break\n",
    "            print(\"epoch {}\" .format(i+1))\n",
    "            self.w_ = self.W\n",
    "            self.w_ += point[self.predict(point)[0]] * self.step\n",
    "            print(\"W{} => {}\" .format(i+1, self.w_))\n",
    "        return self.w_"
   ]
  },
  {
   "cell_type": "code",
   "execution_count": 15,
   "metadata": {},
   "outputs": [
    {
     "name": "stdout",
     "output_type": "stream",
     "text": [
      "Initial Weight => [ 4.  1.  3.]\n"
     ]
    }
   ],
   "source": [
    "a = SimplePerceptron(step=0.5)"
   ]
  },
  {
   "cell_type": "code",
   "execution_count": 16,
   "metadata": {},
   "outputs": [
    {
     "name": "stdout",
     "output_type": "stream",
     "text": [
      "epoch 1\n",
      "W1 => [ 3.   0.5  2.5]\n",
      "epoch 2\n",
      "W2 => [ 2.  0.  2.]\n",
      "epoch 3\n",
      "W3 => [ 1.  -0.5  1.5]\n",
      "epoch 4\n",
      "W4 => [ 0. -1.  1.]\n",
      "epoch 5\n",
      "W5 => [ 0.  -0.5  1.5]\n",
      "epoch 6\n",
      "W6 => [-1. -1.  1.]\n",
      "epoch 7\n",
      "W7 => [-1.  -0.5  1.5]\n",
      "epoch 8\n",
      "W8 => [-0.5  0.5  2. ]\n",
      "epoch 9\n",
      "W9 => [-1.5  0.   1.5]\n",
      "epoch 10\n",
      "W10 => [-1.  1.  2.]\n"
     ]
    }
   ],
   "source": [
    "ans = a.train(point)"
   ]
  },
  {
   "cell_type": "markdown",
   "metadata": {},
   "source": [
    "## Visualization"
   ]
  },
  {
   "cell_type": "code",
   "execution_count": 9,
   "metadata": {
    "collapsed": true
   },
   "outputs": [],
   "source": [
    "%matplotlib inline\n",
    "import matplotlib.pyplot as plt"
   ]
  },
  {
   "cell_type": "code",
   "execution_count": 10,
   "metadata": {
    "collapsed": true
   },
   "outputs": [],
   "source": [
    "x1, x2 = np.array(p1.T.copy()), np.array(p2.T.copy())"
   ]
  },
  {
   "cell_type": "code",
   "execution_count": 11,
   "metadata": {},
   "outputs": [
    {
     "data": {
      "text/plain": [
       "[<matplotlib.lines.Line2D at 0x1096a4ba8>]"
      ]
     },
     "execution_count": 11,
     "metadata": {},
     "output_type": "execute_result"
    },
    {
     "data": {
      "image/png": "[encoded data removed]",
      "text/plain": [
       "<matplotlib.figure.Figure at 0x109626b70>"
      ]
     },
     "metadata": {},
     "output_type": "display_data"
    }
   ],
   "source": [
    "x = np.arange(0,3,0.1)\n",
    "y = (ans[0] * x + ans[2]) / (-ans[1])\n",
    "plt.plot(x,y,\"r-\")\n",
    "plt.plot(x1[0], x1[1],\"o\")\n",
    "plt.plot(x2[0], x2[1], \"o\")"
   ]
  },
  {
   "cell_type": "code",
   "execution_count": null,
   "metadata": {
    "collapsed": true
   },
   "outputs": [],
   "source": []
  }
 ],
 "metadata": {
  "kernelspec": {
   "display_name": "Python 3",
   "language": "python",
   "name": "python3"
  },
  "language_info": {
   "codemirror_mode": {
    "name": "ipython",
    "version": 3
   },
   "file_extension": ".py",
   "mimetype": "text/x-python",
   "name": "python",
   "nbconvert_exporter": "python",
   "pygments_lexer": "ipython3",
   "version": "3.6.0"
  }
 },
 "nbformat": 4,
 "nbformat_minor": 2
}
